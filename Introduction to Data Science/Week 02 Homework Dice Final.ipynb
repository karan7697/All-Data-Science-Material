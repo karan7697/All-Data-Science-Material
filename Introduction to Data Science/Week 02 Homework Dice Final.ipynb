{
 "cells": [
  {
   "cell_type": "markdown",
   "id": "cd835fe9",
   "metadata": {},
   "source": [
    "<h2><b>Homework 2</h2></b><br>\n",
    "Please complete the functions below. These functions are for to simulate a fair and a biased die.<br>\n",
    "\n",
    "The biased die has probabilities {0.25, 0.15, 0.15, 0.15, 0.15, 0.15}.<br>\n",
    "\n",
    "Create 2 visualizations that shows outcomes of multiple rolls of a fair die and biased die.<br>\n",
    "\n",
    "<ul>\n",
    "    <li>Visualization for fair die</li>\n",
    "    <li>Visualization for biased die</li>\n",
    "</ul>\n",
    "Repeat the process programatically and take the mean to create a new list. This list will be used<br>to compare means of biased & unbiased dice.<br>\n",
    "<ul>\n",
    "    <li>Create a historgram showing means of biased & unbiased die</li>\n",
    "    <li>Use subcharts</li>\n",
    "    <li>All visualizations must have appropriate titles.</li>\n",
    "<li>There are 3 visualization and expected format is</li>\n",
    "<br>[V1] [V2]<br>\n",
    "    [   V3  ]"
   ]
  },
  {
   "cell_type": "markdown",
   "id": "ddfc50b7",
   "metadata": {},
   "source": [
    "<h3><b>1. Fair Die Simulations</h3></b>"
   ]
  },
  {
   "cell_type": "code",
   "execution_count": 1,
   "id": "2a12de6b",
   "metadata": {},
   "outputs": [
    {
     "name": "stdout",
     "output_type": "stream",
     "text": [
      "[1, 6, 1, 2, 5, 1, 2, 2, 5, 5, 5, 4, 6, 2, 2, 5, 4, 1, 3, 5, 3, 5, 2, 1, 3, 6, 6, 5, 2, 2, 2, 2, 3, 3, 2, 4, 2, 2, 1, 3, 2, 5, 4, 3, 6, 6, 3, 1, 5, 6, 6, 4, 1, 6, 4, 1, 1, 3, 4, 1, 6, 6, 2, 5, 2, 6, 2, 2, 2, 4, 3, 4, 4, 2, 1, 1, 4, 6, 5, 5, 4, 1, 5, 4, 5, 4, 1, 6, 2, 6, 1, 3, 4, 2, 1, 3, 5, 2, 6, 2, 6, 3, 3, 6, 2, 5, 1, 6, 4, 6, 6, 6, 3, 1, 4, 2, 6, 3, 5, 1, 1, 2, 2, 3, 4, 5, 5, 4, 1, 3, 4, 2, 3, 4, 2, 2, 3, 5, 6, 5, 3, 6, 4, 1, 2, 6, 5, 4, 6, 4, 1, 5, 4, 2, 2, 1, 6, 3, 3, 3, 1, 2, 3, 4, 2, 5, 5, 3, 5, 1, 4, 2, 6, 3, 2, 1, 1, 3, 6, 4, 4, 1, 2, 3, 5, 4, 2, 6, 6, 1, 2, 6, 5, 2, 6, 5, 5, 6, 5, 2, 3, 3, 4, 3, 4, 1, 5, 4, 2, 4, 5, 4, 6, 1, 4, 4, 2, 3, 3, 5, 1, 6, 1, 6, 2, 2, 6, 1, 6, 3, 1, 1, 2, 5, 4, 6, 1, 3, 5, 1, 6, 5, 3, 3, 1, 2, 6, 2, 5, 4, 2, 1, 5, 6, 5, 4, 2, 2, 6, 6, 2, 6, 3, 2, 4, 3, 3, 6, 5, 2, 2, 2, 5, 6, 1, 6, 5, 1, 5, 2, 4, 6, 4, 5, 4, 3, 3, 3, 4, 6, 5, 2, 5, 1, 5, 4, 1, 2, 1, 2, 4, 3, 6, 6, 6, 5, 2, 3, 4, 4, 1, 6, 5, 5, 4, 3, 1, 1, 1, 6, 4, 2, 6, 1, 6, 6, 6, 5, 3, 2, 5, 1, 2, 3, 5, 1, 1, 3, 5, 6, 5, 4, 2, 5, 2, 1, 4, 5, 5, 1, 4, 1, 4, 2, 6, 2, 3, 5, 6, 5, 3, 5, 6, 5, 6, 1, 5, 1, 6, 4, 4, 2, 5, 4, 4, 3, 5, 3, 2, 3, 2, 3, 4, 2, 4, 5, 4, 1, 2, 3, 4, 2, 1, 3, 2, 1, 6, 6, 4, 2, 6, 1, 5, 3, 2, 3, 5, 1, 5, 1, 4, 6, 6, 1, 2, 6, 5, 3, 6, 4, 5, 1, 2, 5, 5, 6, 5, 6, 6, 4, 1, 4, 3, 3, 6, 2, 3, 4, 6, 4, 2, 6, 4, 4, 4, 5, 2, 3, 3, 6, 6, 5, 4, 2, 4, 3, 2, 3, 4, 5, 6, 3, 3, 4, 5, 5, 3, 3, 4, 2, 1, 2, 2, 1, 4, 4, 4, 1, 6, 5, 5, 3, 1, 2, 6, 3, 2, 3, 4, 4, 6, 4, 3, 4, 6, 5, 5, 6, 3, 5]\n",
      "73\n",
      "91\n",
      "77\n",
      "85\n",
      "86\n",
      "88\n"
     ]
    },
    {
     "data": {
      "text/plain": [
       "Text(0.5, 0, 'Number on Die')"
      ]
     },
     "execution_count": 1,
     "metadata": {},
     "output_type": "execute_result"
    },
    {
     "data": {
      "image/png": "[encoded data removed]",
      "text/plain": [
       "<Figure size 432x288 with 1 Axes>"
      ]
     },
     "metadata": {
      "needs_background": "light"
     },
     "output_type": "display_data"
    }
   ],
   "source": [
    "import random\n",
    "import matplotlib.pyplot as plt\n",
    "import numpy as np\n",
    "\n",
    "trial_count = 500\n",
    "\n",
    "def fair_die_simulation(trials):\n",
    "    \n",
    "    options = [1,2,3,4,5,6]\n",
    "    simulations = []\n",
    "    x=0\n",
    "    for i in range(trial_count):\n",
    "        x=0\n",
    "        x=random.choice(options)\n",
    "        simulations.append(x)\n",
    "    return simulations\n",
    "\n",
    "result=(fair_die_simulation(trial_count))\n",
    "\n",
    "print(result)\n",
    "print(result.count(1))\n",
    "print(result.count(2))\n",
    "print(result.count(3))\n",
    "print(result.count(4))\n",
    "print(result.count(5))\n",
    "print(result.count(6))\n",
    "\n",
    "plt.hist(result,density=True, bins=20)\n",
    "plt.title('Fair Die Simulation')\n",
    "plt.ylabel('Times')\n",
    "plt.xlabel('Number on Die')\n"
   ]
  },
  {
   "cell_type": "markdown",
   "id": "fd669627",
   "metadata": {},
   "source": [
    "<h3><b>2. Biased Die Simulations</h3></b>"
   ]
  },
  {
   "cell_type": "code",
   "execution_count": 2,
   "id": "3d032862",
   "metadata": {
    "scrolled": false
   },
   "outputs": [
    {
     "name": "stdout",
     "output_type": "stream",
     "text": [
      "[2, 5, 4, 5, 6, 2, 1, 4, 1, 2, 2, 2, 4, 6, 1, 3, 6, 6, 2, 5, 3, 2, 6, 5, 4, 2, 6, 6, 6, 5, 4, 1, 2, 3, 3, 6, 1, 5, 2, 2, 4, 6, 2, 1, 5, 4, 6, 3, 5, 6, 5, 2, 5, 1, 6, 3, 1, 6, 1, 5, 2, 2, 5, 1, 5, 2, 1, 3, 4, 1, 1, 5, 4, 1, 6, 3, 6, 6, 3, 4, 1, 3, 4, 6, 6, 5, 2, 1, 5, 1, 1, 2, 5, 2, 6, 3, 4, 3, 1, 2, 5, 2, 4, 3, 6, 2, 3, 5, 2, 3, 4, 4, 5, 4, 2, 4, 1, 3, 5, 6, 1, 6, 3, 6, 1, 1, 3, 1, 1, 1, 6, 1, 1, 5, 5, 4, 6, 2, 1, 3, 4, 5, 4, 2, 2, 6, 6, 5, 3, 5, 3, 1, 1, 4, 6, 6, 1, 1, 1, 5, 2, 6, 6, 3, 2, 2, 2, 3, 1, 3, 4, 6, 2, 1, 6, 6, 1, 1, 3, 4, 1, 3, 1, 2, 3, 3, 3, 5, 6, 1, 5, 6, 1, 3, 3, 3, 6, 4, 3, 4, 4, 6, 5, 4, 4, 1, 1, 1, 1, 1, 2, 6, 1, 1, 1, 6, 1, 4, 5, 6, 5, 5, 2, 6, 4, 2, 2, 3, 5, 2, 1, 3, 1, 2, 5, 5, 5, 3, 4, 1, 1, 2, 3, 1, 5, 1, 3, 5, 1, 5, 6, 2, 5, 4, 6, 6, 2, 1, 5, 4, 5, 1, 1, 4, 2, 6, 5, 3, 1, 5, 2, 6, 4, 3, 3, 5, 4, 1, 3, 2, 2, 5, 5, 5, 2, 4, 4, 3, 4, 3, 4, 4, 4, 2, 3, 1, 1, 4, 2, 1, 3, 1, 3, 2, 5, 2, 5, 3, 1, 3, 2, 6, 4, 1, 4, 1, 2, 4, 3, 1, 6, 3, 2, 3, 2, 2, 1, 1, 1, 5, 4, 3, 2, 5, 3, 1, 1, 3, 3, 4, 5, 1, 3, 5, 4, 5, 5, 6, 2, 4, 3, 2, 6, 1, 1, 6, 2, 1, 2, 6, 1, 5, 2, 1, 5, 4, 1, 1, 1, 1, 6, 5, 6, 3, 6, 2, 4, 5, 3, 5, 5, 5, 1, 2, 4, 3, 1, 5, 4, 1, 1, 6, 2, 5, 4, 1, 5, 4, 6, 1, 1, 1, 1, 6, 3, 3, 6, 4, 6, 4, 2, 1, 4, 4, 6, 2, 6, 3, 5, 1, 2, 4, 3, 6, 2, 2, 6, 1, 1, 1, 6, 2, 5, 1, 4, 1, 4, 2, 5, 1, 4, 3, 3, 4, 1, 4, 1, 5, 1, 1, 1, 4, 5, 1, 1, 6, 5, 2, 1, 4, 6, 1, 2, 3, 2, 1, 2, 6, 5, 1, 4, 1, 1, 3, 1, 1, 1, 5, 3, 4, 1, 6, 6, 2, 3, 3, 6, 1, 1, 5, 4, 6, 4, 2, 1, 2, 3, 4, 3, 5]\n",
      "123\n",
      "79\n",
      "74\n",
      "73\n",
      "77\n",
      "74\n"
     ]
    },
    {
     "data": {
      "text/plain": [
       "Text(0.5, 0, 'Number on Die')"
      ]
     },
     "execution_count": 2,
     "metadata": {},
     "output_type": "execute_result"
    },
    {
     "data": {
      "image/png": "[encoded data removed]",
      "text/plain": [
       "<Figure size 432x288 with 1 Axes>"
      ]
     },
     "metadata": {
      "needs_background": "light"
     },
     "output_type": "display_data"
    }
   ],
   "source": [
    "def biased_die_simuations(trials, weights=[0.25, 0.15, 0.15, 0.15, 0.15, 0.15]):\n",
    "   \n",
    "    options = [1,2,3,4,5,6]\n",
    "    simulations = []\n",
    "    \n",
    "    for i in range(trial_count):\n",
    "        y=0\n",
    "        y=random.choices(options, weights=[0.25, 0.15, 0.15, 0.15, 0.15, 0.15])[0]\n",
    "        simulations.append(y)\n",
    "    \n",
    "    return simulations\n",
    "\n",
    "result1=(biased_die_simuations(trial_count))\n",
    "\n",
    "print(result1)\n",
    "print(result1.count(1))\n",
    "print(result1.count(2))\n",
    "print(result1.count(3))\n",
    "print(result1.count(4))\n",
    "print(result1.count(5))\n",
    "print(result1.count(6))\n",
    "\n",
    "plt.hist(result1,density=True, bins=20)\n",
    "plt.title('Biased Die Simulation')\n",
    "plt.ylabel('Times')\n",
    "plt.xlabel('Number on Die')"
   ]
  },
  {
   "cell_type": "markdown",
   "id": "ceb247ae",
   "metadata": {},
   "source": [
    "<h3><b>3. Comparing means of biased & unbiased dice.</h3></b>"
   ]
  },
  {
   "cell_type": "code",
   "execution_count": 28,
   "id": "b403014b",
   "metadata": {},
   "outputs": [
    {
     "name": "stdout",
     "output_type": "stream",
     "text": [
      "Occurences in Biased List\n",
      "No. of 1's: 124\n",
      "No. of 2's: 77\n",
      "No. of 3's: 72\n",
      "No. of 4's: 72\n",
      "No. of 5's: 69\n",
      "No. of 6's: 86\n",
      "Occurences in Fair List\n",
      "No. of 1's: 81\n",
      "No. of 2's: 91\n",
      "No. of 3's: 84\n",
      "No. of 4's: 93\n",
      "No. of 5's: 79\n",
      "No. of 6's: 72\n",
      "List Of Means:\n",
      "Mean of Biased Die [0.248, 0.154, 0.144, 0.144, 0.138, 0.172]\n",
      "Mean of Fair Die [0.162, 0.182, 0.168, 0.186, 0.158, 0.144]\n"
     ]
    },
    {
     "data": {
      "text/plain": [
       "Text(0.5, 1.0, 'Fair Die Vs Biased Die')"
      ]
     },
     "execution_count": 28,
     "metadata": {},
     "output_type": "execute_result"
    },
    {
     "data": {
      "image/png": "[encoded data removed]",
      "text/plain": [
       "<Figure size 432x288 with 3 Axes>"
      ]
     },
     "metadata": {
      "needs_background": "light"
     },
     "output_type": "display_data"
    }
   ],
   "source": [
    "biased = biased_die_simuations(trial_count)\n",
    "fair = fair_die_simulation(trial_count)\n",
    "\n",
    "print(\"Occurences in Biased List\")\n",
    "print(\"No. of 1's:\",biased.count(1))\n",
    "print(\"No. of 2's:\",biased.count(2))\n",
    "print(\"No. of 3's:\",biased.count(3))\n",
    "print(\"No. of 4's:\",biased.count(4))\n",
    "print(\"No. of 5's:\",biased.count(5))\n",
    "print(\"No. of 6's:\",biased.count(6))\n",
    "print(\"Occurences in Fair List\")\n",
    "print(\"No. of 1's:\",fair.count(1))\n",
    "print(\"No. of 2's:\",fair.count(2))\n",
    "print(\"No. of 3's:\",fair.count(3))\n",
    "print(\"No. of 4's:\",fair.count(4))\n",
    "print(\"No. of 5's:\",fair.count(5))\n",
    "print(\"No. of 6's:\",fair.count(6))\n",
    "print(\"List Of Means:\")\n",
    "biased_mean_list = [biased.count(1)/500,biased.count(2)/500,biased.count(3)/500,biased.count(4)/500,biased.count(5)/500,biased.count(6)/500]\n",
    "print(\"Mean of Biased Die\",biased_mean_list)\n",
    "unbiased_mean_listp = [fair.count(1)/500,fair.count(2)/500,fair.count(3)/500,fair.count(4)/500,fair.count(5)/500,fair.count(6)/500]\n",
    "print(\"Mean of Fair Die\",unbiased_mean_listp)\n",
    "\n",
    "#Plotting Visualizations\n",
    "\n",
    "n_bins = [1,2,3,4,5,6]\n",
    "plt.figure()\n",
    "plt.subplot(2,2,1)\n",
    "plt.hist(unbiased_mean_listp, bins=15)\n",
    "plt.title('Mean of Fair Die')\n",
    "\n",
    "plt.subplot(2,2,2)\n",
    "plt.hist(biased_mean_list, bins=15)\n",
    "plt.title('Mean of Biased Die')\n",
    "\n",
    "plt.subplot(2,2,(3,4))\n",
    "plt.hist(biased_mean_list,bins=15)\n",
    "plt.hist(unbiased_mean_listp,bins=15)\n",
    "plt.title('Fair Die Vs Biased Die')"
   ]
  },
  {
   "cell_type": "code",
   "execution_count": null,
   "id": "6cf32f1c",
   "metadata": {},
   "outputs": [],
   "source": []
  },
  {
   "cell_type": "code",
   "execution_count": null,
   "id": "aff25a22",
   "metadata": {},
   "outputs": [],
   "source": []
  },
  {
   "cell_type": "code",
   "execution_count": null,
   "id": "49fc2cbf",
   "metadata": {},
   "outputs": [],
   "source": []
  }
 ],
 "metadata": {
  "kernelspec": {
   "display_name": "Python 3",
   "language": "python",
   "name": "python3"
  },
  "language_info": {
   "codemirror_mode": {
    "name": "ipython",
    "version": 3
   },
   "file_extension": ".py",
   "mimetype": "text/x-python",
   "name": "python",
   "nbconvert_exporter": "python",
   "pygments_lexer": "ipython3",
   "version": "3.8.8"
  }
 },
 "nbformat": 4,
 "nbformat_minor": 5
}
