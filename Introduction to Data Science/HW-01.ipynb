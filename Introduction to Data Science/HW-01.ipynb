{
 "cells": [
  {
   "cell_type": "markdown",
   "id": "5918e245",
   "metadata": {},
   "source": [
    "<h2> Data 601 - Week 1/Homework</h2> "
   ]
  },
  {
   "cell_type": "markdown",
   "id": "a4fe1e78",
   "metadata": {},
   "source": [
    "<b><h3>Question-1</h3>\n",
    "\n",
    "Write a Python function to return a list of all the numbers from 1 to n which are divisible by 5. n will be given as an argument to your function.</b>"
   ]
  },
  {
   "cell_type": "code",
   "execution_count": 8,
   "id": "e70c8804",
   "metadata": {},
   "outputs": [
    {
     "data": {
      "text/plain": [
       "[0,\n",
       " 5,\n",
       " 10,\n",
       " 15,\n",
       " 20,\n",
       " 25,\n",
       " 30,\n",
       " 35,\n",
       " 40,\n",
       " 45,\n",
       " 50,\n",
       " 55,\n",
       " 60,\n",
       " 65,\n",
       " 70,\n",
       " 75,\n",
       " 80,\n",
       " 85,\n",
       " 90,\n",
       " 95,\n",
       " 100,\n",
       " 105,\n",
       " 110,\n",
       " 115,\n",
       " 120]"
      ]
     },
     "execution_count": 8,
     "metadata": {},
     "output_type": "execute_result"
    }
   ],
   "source": [
    "# Your Answer Cell\n",
    "# you can edit the function below. \n",
    "# Don't change function name and parameter names.\n",
    "# you can define new variables inside of the function\n",
    "def divisible_five(given_number):\n",
    "    my_list = []\n",
    "    for x in range(given_number):\n",
    "        if(x%5==0):\n",
    "            my_list.append(x)\n",
    "    return my_list\n",
    "\n",
    "divisible_five(121)\n"
   ]
  },
  {
   "cell_type": "markdown",
   "id": "a98a4d1f",
   "metadata": {},
   "source": [
    "<b><h3>Question-2</h3>\n",
    "\n",
    "Write a function that returns the sum of all the multiples of 3 or 7 below a given number.</b>"
   ]
  },
  {
   "cell_type": "code",
   "execution_count": 16,
   "id": "3c3efff0",
   "metadata": {},
   "outputs": [
    {
     "data": {
      "text/plain": [
       "21426429"
      ]
     },
     "execution_count": 16,
     "metadata": {},
     "output_type": "execute_result"
    }
   ],
   "source": [
    "# Your Answer Cell\n",
    "# you can edit the function below. \n",
    "# Don't change function name and parameter names.\n",
    "# you can define new variables inside of the function.\n",
    "\n",
    "def my_function(given_number):\n",
    "    my_list=[]\n",
    "    for x in range(given_number):\n",
    "        if(x%3==0) or (x%7==0):\n",
    "            my_list.append(x)\n",
    "            \n",
    "\n",
    "    return sum(my_list)\n",
    "    \n",
    "\n",
    "## your answer above\n",
    "\n",
    "my_function(10000)"
   ]
  },
  {
   "cell_type": "markdown",
   "id": "e91e39bc",
   "metadata": {},
   "source": [
    "<b><h3>Question-3 (Shell & Magic Commands)</h3>\n",
    "\n",
    "    Question-3-a\n",
    "    \n",
    "Below print current working directory.</b>"
   ]
  },
  {
   "cell_type": "code",
   "execution_count": 19,
   "id": "d1feb966",
   "metadata": {},
   "outputs": [
    {
     "data": {
      "text/plain": [
       "'C:\\\\Users\\\\KARAN\\\\Desktop\\\\UMBC STUDY\\\\601\\\\Week 1'"
      ]
     },
     "execution_count": 19,
     "metadata": {},
     "output_type": "execute_result"
    }
   ],
   "source": [
    "%pwd"
   ]
  },
  {
   "cell_type": "markdown",
   "id": "e0f4ab31",
   "metadata": {},
   "source": [
    "<b>Question-3-b\n",
    "\n",
    "Below list all the files and folders in the current working directory.</b>"
   ]
  },
  {
   "cell_type": "code",
   "execution_count": 18,
   "id": "e7fde180",
   "metadata": {},
   "outputs": [
    {
     "name": "stdout",
     "output_type": "stream",
     "text": [
      " Volume in drive C has no label.\n",
      " Volume Serial Number is BC4B-F8F0\n",
      "\n",
      " Directory of C:\\Users\\KARAN\\Desktop\\UMBC STUDY\\601\\Week 1\n",
      "\n",
      "08-09-2021  13:28    <DIR>          .\n",
      "08-09-2021  13:28    <DIR>          ..\n",
      "07-09-2021  20:42    <DIR>          .ipynb_checkpoints\n",
      "07-09-2021  15:31             1,214 ass 1.txt\n",
      "07-09-2021  16:47               724 Class 1.txt\n",
      "08-09-2021  11:54    <DIR>          Content\n",
      "08-09-2021  13:11    <DIR>          Data\n",
      "08-09-2021  13:28            17,286 HW-01.ipynb\n",
      "07-09-2021  20:45             1,053 My_Script.ipynb\n",
      "07-09-2021  19:49            15,257 Summary.txt.docx\n",
      "               5 File(s)         35,534 bytes\n",
      "               5 Dir(s)  354,344,468,480 bytes free\n"
     ]
    }
   ],
   "source": [
    "%ls"
   ]
  },
  {
   "cell_type": "markdown",
   "id": "9b205efc",
   "metadata": {},
   "source": [
    "<b>Question 3-c\n",
    "\n",
    "Create a new directory within the current working directory 'data'</b>"
   ]
  },
  {
   "cell_type": "code",
   "execution_count": 11,
   "id": "8cf2fc1a",
   "metadata": {},
   "outputs": [
    {
     "name": "stdout",
     "output_type": "stream",
     "text": [
      " Volume in drive C has no label.\n",
      " Volume Serial Number is BC4B-F8F0\n",
      "\n",
      " Directory of C:\\Users\\KARAN\\Desktop\\UMBC STUDY\\601\\Week 1\n",
      "\n",
      "08-09-2021  13:11    <DIR>          .\n",
      "08-09-2021  13:11    <DIR>          ..\n",
      "07-09-2021  20:42    <DIR>          .ipynb_checkpoints\n",
      "07-09-2021  15:31             1,214 ass 1.txt\n",
      "07-09-2021  16:47               724 Class 1.txt\n",
      "08-09-2021  11:54    <DIR>          Content\n",
      "08-09-2021  13:11    <DIR>          Data\n",
      "08-09-2021  13:10             7,831 HW-01.ipynb\n",
      "07-09-2021  20:45             1,053 My_Script.ipynb\n",
      "07-09-2021  19:49            15,257 Summary.txt.docx\n",
      "               5 File(s)         26,079 bytes\n",
      "               5 Dir(s)  354,344,865,792 bytes free\n"
     ]
    }
   ],
   "source": [
    "%mkdir Data\n",
    "%ls"
   ]
  },
  {
   "cell_type": "markdown",
   "id": "00351bd0",
   "metadata": {},
   "source": [
    "<b>Question-3-d\n",
    "\n",
    "Change the working directory to 'data' print current working directory again to make sure that your answer is correct.</b>"
   ]
  },
  {
   "cell_type": "code",
   "execution_count": 20,
   "id": "0b7e8b53",
   "metadata": {},
   "outputs": [
    {
     "name": "stdout",
     "output_type": "stream",
     "text": [
      "C:\\Users\\KARAN\\Desktop\\UMBC STUDY\\601\\Week 1\\data\n"
     ]
    },
    {
     "data": {
      "text/plain": [
       "'C:\\\\Users\\\\KARAN\\\\Desktop\\\\UMBC STUDY\\\\601\\\\Week 1\\\\data'"
      ]
     },
     "execution_count": 20,
     "metadata": {},
     "output_type": "execute_result"
    }
   ],
   "source": [
    "%cd data\n",
    "%pwd"
   ]
  },
  {
   "cell_type": "markdown",
   "id": "49da57d6",
   "metadata": {},
   "source": [
    "<b>Question-3-e\n",
    "\n",
    "Create a new file under 'content/my_directory' and name it 'my_script.py'</b>"
   ]
  },
  {
   "cell_type": "code",
   "execution_count": 14,
   "id": "189e7683",
   "metadata": {},
   "outputs": [
    {
     "name": "stdout",
     "output_type": "stream",
     "text": [
      "CWD C:\\Users\\KARAN\\Desktop\\UMBC STUDY\\601\\Week 1\\Content\\my_directory\\Content\\my_directory\\Content\\my_directory\n"
     ]
    }
   ],
   "source": [
    "import os\n",
    "os.mkdir('Content')\n",
    "os.chdir('Content')\n",
    "os.mkdir('my_directory')\n",
    "os.chdir('my_directory')\n",
    "print('CWD',os.getcwd())\n"
   ]
  },
  {
   "cell_type": "code",
   "execution_count": 15,
   "id": "38dfa830",
   "metadata": {},
   "outputs": [
    {
     "name": "stdout",
     "output_type": "stream",
     "text": [
      "Writing my_script.py\n"
     ]
    }
   ],
   "source": [
    "%%writefile my_script.py\n",
    "print(\"Karan Pisay\")"
   ]
  },
  {
   "cell_type": "markdown",
   "id": "ee097127",
   "metadata": {},
   "source": [
    "<b>Question-3-f\n",
    "\n",
    "Create 'my_script.py' so that it prints 'Your First Name-Your Last Name' and run this scripy in the cell below.</b>"
   ]
  },
  {
   "cell_type": "code",
   "execution_count": 12,
   "id": "6c66a172",
   "metadata": {},
   "outputs": [
    {
     "name": "stdout",
     "output_type": "stream",
     "text": [
      "Karan Pisay\n"
     ]
    }
   ],
   "source": [
    "!python my_script.py"
   ]
  },
  {
   "cell_type": "code",
   "execution_count": null,
   "id": "e8f2ed7c",
   "metadata": {},
   "outputs": [],
   "source": []
  }
 ],
 "metadata": {
  "kernelspec": {
   "display_name": "Python 3",
   "language": "python",
   "name": "python3"
  },
  "language_info": {
   "codemirror_mode": {
    "name": "ipython",
    "version": 3
   },
   "file_extension": ".py",
   "mimetype": "text/x-python",
   "name": "python",
   "nbconvert_exporter": "python",
   "pygments_lexer": "ipython3",
   "version": "3.8.8"
  }
 },
 "nbformat": 4,
 "nbformat_minor": 5
}
