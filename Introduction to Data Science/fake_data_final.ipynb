{
 "cells": [
  {
   "cell_type": "code",
   "execution_count": 1,
   "id": "9c082a53",
   "metadata": {},
   "outputs": [
    {
     "name": "stdout",
     "output_type": "stream",
     "text": [
      "Number of records to be generated: 5000\n",
      "CSV generation complete!\n"
     ]
    }
   ],
   "source": [
    "from faker import Faker\n",
    "import random\n",
    "import csv\n",
    "data = Faker()\n",
    "\n",
    "def create_csv_file(COUNT):\n",
    "    with open('assignment.csv', 'w', newline='') as csvfile:\n",
    "        fieldnames = ['Name', 'Address', 'Email', 'Phone_Number', 'Year_of_birth', 'Income', 'Children', 'Speeding_tickets_in_past_year', 'House']\n",
    "       \n",
    "        writer = csv.DictWriter(csvfile, fieldnames=fieldnames)\n",
    "        writer.writeheader()\n",
    "       \n",
    "        for i in range(COUNT):\n",
    "            writer.writerow(\n",
    "            {\n",
    "                'Name': data.name(),\n",
    "                'Address': get_address(data.address()),\n",
    "                'Email': data.email(domain = 'gmail.com'),\n",
    "                'Phone_Number': phone_num(),\n",
    "                'Year_of_birth': data.random_int(min=1970, max=1990),\n",
    "#                 'Income': data.random_int(min=90000, max=110000),\n",
    "                'Children': data.random_int(min=0, max=3),\n",
    "#                 'Speeding_tickets_in_past_year': data.random_int(min=0, max=6),\n",
    "#                 'House': random.choice(['Rented', 'Own'])\n",
    "            }\n",
    "            )\n",
    " \n",
    "def get_address(ad):    \n",
    "    ad1 = ad.split(\"\\n\")\n",
    "    ad2 = ad1[0]+\", \"+ad1[1]  \n",
    "    return ad2  \n",
    "\n",
    "\n",
    "def phone_num():\n",
    "    areacode = str(random.randint(100, 999))\n",
    "    middle = str(random.randint(1, 888)).zfill(3)\n",
    "    end = (str(random.randint(1, 9998)).zfill(4))\n",
    "    while end in ['1111', '2222', '3333', '4444', '5555', '6666', '7777', '8888']:\n",
    "        end = (str(random.randint(1, 9998)).zfill(4))\n",
    "    return '{}-{}-{}'.format(areacode, middle, end)\n",
    "            \n",
    "           \n",
    "if __name__ == '__main__':\n",
    "    COUNT = int(input(\"Number of records to be generated: \"))\n",
    "    create_csv_file(COUNT)\n",
    "    print(\"CSV generation complete!\")"
   ]
  },
  {
   "cell_type": "code",
   "execution_count": null,
   "id": "42fe20ba",
   "metadata": {},
   "outputs": [],
   "source": []
  },
  {
   "cell_type": "code",
   "execution_count": null,
   "id": "8da87a3d",
   "metadata": {},
   "outputs": [],
   "source": []
  }
 ],
 "metadata": {
  "kernelspec": {
   "display_name": "Python 3",
   "language": "python",
   "name": "python3"
  },
  "language_info": {
   "codemirror_mode": {
    "name": "ipython",
    "version": 3
   },
   "file_extension": ".py",
   "mimetype": "text/x-python",
   "name": "python",
   "nbconvert_exporter": "python",
   "pygments_lexer": "ipython3",
   "version": "3.8.8"
  }
 },
 "nbformat": 4,
 "nbformat_minor": 5
}
